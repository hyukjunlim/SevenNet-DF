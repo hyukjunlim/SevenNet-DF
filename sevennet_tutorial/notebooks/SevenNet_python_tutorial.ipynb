{
 "cells": [
  {
   "cell_type": "markdown",
   "metadata": {
    "id": "70dsECuXtOku"
   },
   "source": [
    "<a href=\"https://colab.research.google.com/github/MDIL-SNU/sevennet_tutorial/blob/main/notebooks/SevenNet_python_tutorial.ipynb\" target=\"_parent\"><img src=\"https://colab.research.google.com/assets/colab-badge.svg\" alt=\"Open In Colab\"/></a>"
   ]
  },
  {
   "cell_type": "markdown",
   "metadata": {
    "id": "TMbCfqbmHVf0"
   },
   "source": [
    "# SevenNet tutorial: python interactive\n",
    "---\n",
    "This notebook is a python interactive tutorial for SevenNet.\n",
    "\n",
    "We recommend using a GPU. If you're using Colab, go to:\\\n",
    "[`Runtime`] → [`Change runtime type`] → [`T4 GPU`] → [`Save`]\\\n",
    "You can use CPU, but it is very slow and you should change the code.\n",
    "[`'device': 'cuda'`] → [`'device': 'cpu'`]\n",
    "\n",
    "If you're using Colab, it may crash occasionally. If it does, try starting from the beginning or from the cell where it crashed. If that doesn’t work, go to: \\\n",
    "[`Runtime`] → [`Disconnect and delete runtime`] → restart the tutorial\n",
    "\n",
    "If you want to learn more about SevenNet, please check the link below:\n",
    "- [paper](https://pubs.acs.org/doi/10.1021/acs.jctc.4c00190)\n",
    "- [SevenNet github](https://github.com/MDIL-SNU/SevenNet) "
   ]
  },
  {
   "cell_type": "markdown",
   "metadata": {
    "id": "f3dxO2smIM2_"
   },
   "source": [
    "## 0. Installation\n",
    "First of all, let's install SevenNet on our computer. It is very simple."
   ]
  },
  {
   "cell_type": "code",
   "execution_count": 1,
   "metadata": {
    "colab": {
     "base_uri": "https://localhost:8080/"
    },
    "executionInfo": {
     "elapsed": 2231,
     "status": "ok",
     "timestamp": 1730955600562,
     "user": {
      "displayName": "­박유택 / 학생 / 재료공학부",
      "userId": "02833677595276856056"
     },
     "user_tz": -540
    },
    "id": "Rr3rfL3fw_di",
    "outputId": "1e163927-da12-4b3c-b14a-9f5b416ead41"
   },
   "outputs": [
    {
     "name": "stdout",
     "output_type": "stream",
     "text": [
      "Requirement already satisfied: sevenn in /home/hexagonrose/miniconda3/envs/seven/lib/python3.9/site-packages (0.10.2)\n",
      "Requirement already satisfied: ase in /home/hexagonrose/miniconda3/envs/seven/lib/python3.9/site-packages (from sevenn) (3.23.0)\n",
      "Requirement already satisfied: braceexpand in /home/hexagonrose/miniconda3/envs/seven/lib/python3.9/site-packages (from sevenn) (0.1.7)\n",
      "Requirement already satisfied: pyyaml in /home/hexagonrose/miniconda3/envs/seven/lib/python3.9/site-packages (from sevenn) (6.0.2)\n",
      "Requirement already satisfied: e3nn in /home/hexagonrose/miniconda3/envs/seven/lib/python3.9/site-packages (from sevenn) (0.5.1)\n",
      "Requirement already satisfied: tqdm in /home/hexagonrose/miniconda3/envs/seven/lib/python3.9/site-packages (from sevenn) (4.66.5)\n",
      "Requirement already satisfied: scikit-learn in /home/hexagonrose/miniconda3/envs/seven/lib/python3.9/site-packages (from sevenn) (1.5.2)\n",
      "Requirement already satisfied: torch_geometric>=2.5.0 in /home/hexagonrose/miniconda3/envs/seven/lib/python3.9/site-packages (from sevenn) (2.6.1)\n",
      "Requirement already satisfied: numpy<2.0 in /home/hexagonrose/miniconda3/envs/seven/lib/python3.9/site-packages (from sevenn) (1.26.4)\n",
      "Requirement already satisfied: matscipy in /home/hexagonrose/miniconda3/envs/seven/lib/python3.9/site-packages (from sevenn) (1.1.1)\n",
      "Requirement already satisfied: aiohttp in /home/hexagonrose/miniconda3/envs/seven/lib/python3.9/site-packages (from torch_geometric>=2.5.0->sevenn) (3.10.7)\n",
      "Requirement already satisfied: fsspec in /home/hexagonrose/miniconda3/envs/seven/lib/python3.9/site-packages (from torch_geometric>=2.5.0->sevenn) (2024.9.0)\n",
      "Requirement already satisfied: jinja2 in /home/hexagonrose/miniconda3/envs/seven/lib/python3.9/site-packages (from torch_geometric>=2.5.0->sevenn) (3.1.4)\n",
      "Requirement already satisfied: psutil>=5.8.0 in /home/hexagonrose/miniconda3/envs/seven/lib/python3.9/site-packages (from torch_geometric>=2.5.0->sevenn) (6.0.0)\n",
      "Requirement already satisfied: pyparsing in /home/hexagonrose/miniconda3/envs/seven/lib/python3.9/site-packages (from torch_geometric>=2.5.0->sevenn) (3.1.4)\n",
      "Requirement already satisfied: requests in /home/hexagonrose/miniconda3/envs/seven/lib/python3.9/site-packages (from torch_geometric>=2.5.0->sevenn) (2.32.3)\n",
      "Requirement already satisfied: scipy>=1.6.0 in /home/hexagonrose/miniconda3/envs/seven/lib/python3.9/site-packages (from ase->sevenn) (1.13.1)\n",
      "Requirement already satisfied: matplotlib>=3.3.4 in /home/hexagonrose/miniconda3/envs/seven/lib/python3.9/site-packages (from ase->sevenn) (3.9.2)\n",
      "Requirement already satisfied: sympy in /home/hexagonrose/miniconda3/envs/seven/lib/python3.9/site-packages (from e3nn->sevenn) (1.13.3)\n",
      "Requirement already satisfied: torch>=1.8.0 in /home/hexagonrose/miniconda3/envs/seven/lib/python3.9/site-packages (from e3nn->sevenn) (2.3.1)\n",
      "Requirement already satisfied: opt-einsum-fx>=0.1.4 in /home/hexagonrose/miniconda3/envs/seven/lib/python3.9/site-packages (from e3nn->sevenn) (0.1.4)\n",
      "Requirement already satisfied: packaging in /home/hexagonrose/miniconda3/envs/seven/lib/python3.9/site-packages (from matscipy->sevenn) (24.1)\n",
      "Requirement already satisfied: joblib>=1.2.0 in /home/hexagonrose/miniconda3/envs/seven/lib/python3.9/site-packages (from scikit-learn->sevenn) (1.4.2)\n",
      "Requirement already satisfied: threadpoolctl>=3.1.0 in /home/hexagonrose/miniconda3/envs/seven/lib/python3.9/site-packages (from scikit-learn->sevenn) (3.5.0)\n",
      "Requirement already satisfied: contourpy>=1.0.1 in /home/hexagonrose/miniconda3/envs/seven/lib/python3.9/site-packages (from matplotlib>=3.3.4->ase->sevenn) (1.3.0)\n",
      "Requirement already satisfied: cycler>=0.10 in /home/hexagonrose/miniconda3/envs/seven/lib/python3.9/site-packages (from matplotlib>=3.3.4->ase->sevenn) (0.12.1)\n",
      "Requirement already satisfied: fonttools>=4.22.0 in /home/hexagonrose/miniconda3/envs/seven/lib/python3.9/site-packages (from matplotlib>=3.3.4->ase->sevenn) (4.54.1)\n",
      "Requirement already satisfied: kiwisolver>=1.3.1 in /home/hexagonrose/miniconda3/envs/seven/lib/python3.9/site-packages (from matplotlib>=3.3.4->ase->sevenn) (1.4.7)\n",
      "Requirement already satisfied: pillow>=8 in /home/hexagonrose/miniconda3/envs/seven/lib/python3.9/site-packages (from matplotlib>=3.3.4->ase->sevenn) (10.4.0)\n",
      "Requirement already satisfied: python-dateutil>=2.7 in /home/hexagonrose/miniconda3/envs/seven/lib/python3.9/site-packages (from matplotlib>=3.3.4->ase->sevenn) (2.9.0)\n",
      "Requirement already satisfied: importlib-resources>=3.2.0 in /home/hexagonrose/miniconda3/envs/seven/lib/python3.9/site-packages (from matplotlib>=3.3.4->ase->sevenn) (6.4.5)\n",
      "Requirement already satisfied: opt-einsum in /home/hexagonrose/miniconda3/envs/seven/lib/python3.9/site-packages (from opt-einsum-fx>=0.1.4->e3nn->sevenn) (3.4.0)\n",
      "Requirement already satisfied: filelock in /home/hexagonrose/miniconda3/envs/seven/lib/python3.9/site-packages (from torch>=1.8.0->e3nn->sevenn) (3.16.1)\n",
      "Requirement already satisfied: typing-extensions>=4.8.0 in /home/hexagonrose/miniconda3/envs/seven/lib/python3.9/site-packages (from torch>=1.8.0->e3nn->sevenn) (4.12.2)\n",
      "Requirement already satisfied: networkx in /home/hexagonrose/miniconda3/envs/seven/lib/python3.9/site-packages (from torch>=1.8.0->e3nn->sevenn) (3.2.1)\n",
      "Requirement already satisfied: nvidia-cuda-nvrtc-cu12==12.1.105 in /home/hexagonrose/miniconda3/envs/seven/lib/python3.9/site-packages (from torch>=1.8.0->e3nn->sevenn) (12.1.105)\n",
      "Requirement already satisfied: nvidia-cuda-runtime-cu12==12.1.105 in /home/hexagonrose/miniconda3/envs/seven/lib/python3.9/site-packages (from torch>=1.8.0->e3nn->sevenn) (12.1.105)\n",
      "Requirement already satisfied: nvidia-cuda-cupti-cu12==12.1.105 in /home/hexagonrose/miniconda3/envs/seven/lib/python3.9/site-packages (from torch>=1.8.0->e3nn->sevenn) (12.1.105)\n",
      "Requirement already satisfied: nvidia-cudnn-cu12==8.9.2.26 in /home/hexagonrose/miniconda3/envs/seven/lib/python3.9/site-packages (from torch>=1.8.0->e3nn->sevenn) (8.9.2.26)\n",
      "Requirement already satisfied: nvidia-cublas-cu12==12.1.3.1 in /home/hexagonrose/miniconda3/envs/seven/lib/python3.9/site-packages (from torch>=1.8.0->e3nn->sevenn) (12.1.3.1)\n",
      "Requirement already satisfied: nvidia-cufft-cu12==11.0.2.54 in /home/hexagonrose/miniconda3/envs/seven/lib/python3.9/site-packages (from torch>=1.8.0->e3nn->sevenn) (11.0.2.54)\n",
      "Requirement already satisfied: nvidia-curand-cu12==10.3.2.106 in /home/hexagonrose/miniconda3/envs/seven/lib/python3.9/site-packages (from torch>=1.8.0->e3nn->sevenn) (10.3.2.106)\n",
      "Requirement already satisfied: nvidia-cusolver-cu12==11.4.5.107 in /home/hexagonrose/miniconda3/envs/seven/lib/python3.9/site-packages (from torch>=1.8.0->e3nn->sevenn) (11.4.5.107)\n",
      "Requirement already satisfied: nvidia-cusparse-cu12==12.1.0.106 in /home/hexagonrose/miniconda3/envs/seven/lib/python3.9/site-packages (from torch>=1.8.0->e3nn->sevenn) (12.1.0.106)\n",
      "Requirement already satisfied: nvidia-nccl-cu12==2.20.5 in /home/hexagonrose/miniconda3/envs/seven/lib/python3.9/site-packages (from torch>=1.8.0->e3nn->sevenn) (2.20.5)\n",
      "Requirement already satisfied: nvidia-nvtx-cu12==12.1.105 in /home/hexagonrose/miniconda3/envs/seven/lib/python3.9/site-packages (from torch>=1.8.0->e3nn->sevenn) (12.1.105)\n",
      "Requirement already satisfied: triton==2.3.1 in /home/hexagonrose/miniconda3/envs/seven/lib/python3.9/site-packages (from torch>=1.8.0->e3nn->sevenn) (2.3.1)\n",
      "Requirement already satisfied: nvidia-nvjitlink-cu12 in /home/hexagonrose/miniconda3/envs/seven/lib/python3.9/site-packages (from nvidia-cusolver-cu12==11.4.5.107->torch>=1.8.0->e3nn->sevenn) (12.6.68)\n",
      "Requirement already satisfied: aiohappyeyeballs>=2.3.0 in /home/hexagonrose/miniconda3/envs/seven/lib/python3.9/site-packages (from aiohttp->torch_geometric>=2.5.0->sevenn) (2.4.2)\n",
      "Requirement already satisfied: aiosignal>=1.1.2 in /home/hexagonrose/miniconda3/envs/seven/lib/python3.9/site-packages (from aiohttp->torch_geometric>=2.5.0->sevenn) (1.3.1)\n",
      "Requirement already satisfied: attrs>=17.3.0 in /home/hexagonrose/miniconda3/envs/seven/lib/python3.9/site-packages (from aiohttp->torch_geometric>=2.5.0->sevenn) (24.2.0)\n",
      "Requirement already satisfied: frozenlist>=1.1.1 in /home/hexagonrose/miniconda3/envs/seven/lib/python3.9/site-packages (from aiohttp->torch_geometric>=2.5.0->sevenn) (1.4.1)\n",
      "Requirement already satisfied: multidict<7.0,>=4.5 in /home/hexagonrose/miniconda3/envs/seven/lib/python3.9/site-packages (from aiohttp->torch_geometric>=2.5.0->sevenn) (6.1.0)\n",
      "Requirement already satisfied: yarl<2.0,>=1.12.0 in /home/hexagonrose/miniconda3/envs/seven/lib/python3.9/site-packages (from aiohttp->torch_geometric>=2.5.0->sevenn) (1.13.1)\n",
      "Requirement already satisfied: async-timeout<5.0,>=4.0 in /home/hexagonrose/miniconda3/envs/seven/lib/python3.9/site-packages (from aiohttp->torch_geometric>=2.5.0->sevenn) (4.0.3)\n",
      "Requirement already satisfied: MarkupSafe>=2.0 in /home/hexagonrose/miniconda3/envs/seven/lib/python3.9/site-packages (from jinja2->torch_geometric>=2.5.0->sevenn) (2.1.5)\n",
      "Requirement already satisfied: charset-normalizer<4,>=2 in /home/hexagonrose/miniconda3/envs/seven/lib/python3.9/site-packages (from requests->torch_geometric>=2.5.0->sevenn) (3.3.2)\n",
      "Requirement already satisfied: idna<4,>=2.5 in /home/hexagonrose/miniconda3/envs/seven/lib/python3.9/site-packages (from requests->torch_geometric>=2.5.0->sevenn) (3.10)\n",
      "Requirement already satisfied: urllib3<3,>=1.21.1 in /home/hexagonrose/miniconda3/envs/seven/lib/python3.9/site-packages (from requests->torch_geometric>=2.5.0->sevenn) (2.2.3)\n",
      "Requirement already satisfied: certifi>=2017.4.17 in /home/hexagonrose/miniconda3/envs/seven/lib/python3.9/site-packages (from requests->torch_geometric>=2.5.0->sevenn) (2024.8.30)\n",
      "Requirement already satisfied: mpmath<1.4,>=1.1.0 in /home/hexagonrose/miniconda3/envs/seven/lib/python3.9/site-packages (from sympy->e3nn->sevenn) (1.3.0)\n",
      "Requirement already satisfied: zipp>=3.1.0 in /home/hexagonrose/miniconda3/envs/seven/lib/python3.9/site-packages (from importlib-resources>=3.2.0->matplotlib>=3.3.4->ase->sevenn) (3.20.2)\n",
      "Requirement already satisfied: six>=1.5 in /home/hexagonrose/miniconda3/envs/seven/lib/python3.9/site-packages (from python-dateutil>=2.7->matplotlib>=3.3.4->ase->sevenn) (1.16.0)\n"
     ]
    }
   ],
   "source": [
    "# Install SevenNet\n",
    "!pip install sevenn\n",
    "\n",
    "# If you want to check the SevenNet code, clone the repo.\n",
    "# !git clone https://github.com/MDIL-SNU/SevenNet.git\n",
    "\n",
    "import os\n",
    "working_dir = os.getcwd() # save current path"
   ]
  },
  {
   "cell_type": "code",
   "execution_count": 2,
   "metadata": {
    "colab": {
     "base_uri": "https://localhost:8080/",
     "height": 35
    },
    "executionInfo": {
     "elapsed": 564,
     "status": "ok",
     "timestamp": 1730955608171,
     "user": {
      "displayName": "­박유택 / 학생 / 재료공학부",
      "userId": "02833677595276856056"
     },
     "user_tz": -540
    },
    "id": "T8cO8LjyxDsE",
    "outputId": "15cc506f-ef7b-4387-9e27-ae875379bade"
   },
   "outputs": [
    {
     "data": {
      "text/plain": [
       "'0.10.2'"
      ]
     },
     "execution_count": 2,
     "metadata": {},
     "output_type": "execute_result"
    }
   ],
   "source": [
    "# check if sevenn is installed well\n",
    "import sevenn\n",
    "sevenn.__version__"
   ]
  },
  {
   "cell_type": "markdown",
   "metadata": {
    "id": "KKhEzjo5On_r"
   },
   "source": [
    "## 1. Dataset\n",
    "We prepared **Li-argyrodite (Li<sub>6</sub>PS<sub>5</sub>Cl)** data for this tutorial.\n",
    "### Dataset download"
   ]
  },
  {
   "cell_type": "code",
   "execution_count": 3,
   "metadata": {
    "colab": {
     "base_uri": "https://localhost:8080/"
    },
    "executionInfo": {
     "elapsed": 1390,
     "status": "ok",
     "timestamp": 1730955615157,
     "user": {
      "displayName": "­박유택 / 학생 / 재료공학부",
      "userId": "02833677595276856056"
     },
     "user_tz": -540
    },
    "id": "u2CwQ2vHigQH",
    "outputId": "72f55eaf-6fd5-4498-e7a5-3eacadd4d1b4"
   },
   "outputs": [],
   "source": [
    "import os.path\n",
    "\n",
    "data_path = './data'\n",
    "if not os.path.exists(data_path):\n",
    "    # If you have this notebook file only, (or using colab) download the dataset\n",
    "    !git clone https://github.com/MDIL-SNU/sevennet_tutorial.git\n",
    "    data_path = 'sevennet_tutorial/data'\n",
    "\n",
    "assert os.path.exists(data_path) and os.path.exists(os.path.join(data_path, 'train'))\n"
   ]
  },
  {
   "cell_type": "markdown",
   "metadata": {},
   "source": [
    "### Dataset setting\n",
    "Using `SevenNetGraphDataset`, we can easily generate graph data (**.pt**) from material data files like **POSCAR** or **extxyz**.\\\n",
    "We prepared two extxyz files of Li-argyrodite trajectory at 600 K and 1200 K.\\\n",
    "We will build graph data using cutoff radius 4.5 Å. You can modify this!"
   ]
  },
  {
   "cell_type": "code",
   "execution_count": 4,
   "metadata": {},
   "outputs": [],
   "source": [
    "from sevenn.train.graph_dataset import SevenNetGraphDataset\n",
    "\n",
    "dataset_prefix = os.path.join(data_path, 'train')\n",
    "xyz_files = ['1200K.extxyz', '600K.extxyz']\n",
    "dataset_files = [os.path.join(dataset_prefix, xyz) for xyz in xyz_files]\n",
    "\n",
    "# Preprocess(build graphs) data before training. It will automatically saves processed graph to {root}/sevenn_data/train.pt, metadata + statistics as train.yaml\n",
    "cutoff = 4.5  # cutoff radius for graph construction. You can change this value.\n",
    "dataset = SevenNetGraphDataset(cutoff=cutoff, root=working_dir, files=dataset_files, processed_name='train.pt')"
   ]
  },
  {
   "cell_type": "markdown",
   "metadata": {},
   "source": [
    "Let's take a look at what the dataset looks like.\\\n",
    "We have total 170 data.\\\n",
    "Each data has 416 nodes (Li<sub>192</sub>P<sub>32</sub>S<sub>160</sub>Cl<sub>32</sub>) and 8,332 edges (in case of 4.5 Å cutoff)"
   ]
  },
  {
   "cell_type": "code",
   "execution_count": 5,
   "metadata": {},
   "outputs": [
    {
     "name": "stdout",
     "output_type": "stream",
     "text": [
      "# graphs: 170\n",
      "# atoms (nodes): {'Cl': 5440, 'Li': 32640, 'P': 5440, 'S': 27200, 'total': 70720}\n",
      "AtomGraphData(\n",
      "  x=[416],\n",
      "  edge_index=[2, 8332],\n",
      "  pos=[416, 3],\n",
      "  node_attr=[416],\n",
      "  atomic_numbers=[416],\n",
      "  edge_vec=[8332, 3],\n",
      "  total_energy=[1],\n",
      "  force_of_atoms=[416, 3],\n",
      "  stress=[1, 6],\n",
      "  cell_lattice_vectors=[3, 3],\n",
      "  pbc_shift=[8332, 3],\n",
      "  cell_volume=[1],\n",
      "  num_atoms=[1],\n",
      "  per_atom_energy=[1],\n",
      "  data_info={}\n",
      ")\n"
     ]
    }
   ],
   "source": [
    "print(f'# graphs: {len(dataset)}')\n",
    "print(f'# atoms (nodes): {dataset.natoms}')\n",
    "print(dataset[0])"
   ]
  },
  {
   "cell_type": "markdown",
   "metadata": {},
   "source": [
    "Using `DataLoader` from `torch_geometric.loader`, we can make a dataloader for training.\\\n",
    "For Colab environment, we set the batch size to 8. You can increase this value if you have more powerful resources.\\\n",
    "We'll split the data into training and validation sets (95:5)."
   ]
  },
  {
   "cell_type": "code",
   "execution_count": 6,
   "metadata": {},
   "outputs": [
    {
     "name": "stdout",
     "output_type": "stream",
     "text": [
      "# graphs for training: 161\n",
      "# graphs for validation: 9\n"
     ]
    }
   ],
   "source": [
    "from torch_geometric.loader import DataLoader\n",
    "\n",
    "# split the dataset into train & valid\n",
    "num_dataset = len(dataset)\n",
    "num_train = int(num_dataset * 0.95)\n",
    "num_valid = num_dataset - num_train\n",
    "\n",
    "dataset = dataset.shuffle()\n",
    "train_dataset = dataset[:num_train]\n",
    "valid_dataset = dataset[num_train:]\n",
    "\n",
    "print(f'# graphs for training: {len(train_dataset)}')\n",
    "print(f'# graphs for validation: {len(valid_dataset)}')\n",
    "\n",
    "train_loader = DataLoader(train_dataset, batch_size=8, shuffle=True)\n",
    "valid_loader = DataLoader(valid_dataset, batch_size=8)"
   ]
  },
  {
   "cell_type": "markdown",
   "metadata": {
    "id": "FfgJUwoS9hr3"
   },
   "source": [
    "## 2. Training from scratch\n",
    "In training, there are two main things to configure: \n",
    "1. Model setting\n",
    "2. Training setting (loss function, optimizer...)"
   ]
  },
  {
   "cell_type": "markdown",
   "metadata": {
    "id": "rh5tj1Xa9saG"
   },
   "source": [
    "### Model setting"
   ]
  },
  {
   "cell_type": "markdown",
   "metadata": {},
   "source": [
    "First, let's build the SevenNet model. Making a model is very simple.\\\n",
    "We can make it using the `build_E3_equivariant_model`, which takes `model_cfg` as input.\\\n",
    "And we can make a default `model_cfg` from `DEFAULT_E3_EQUIVARIANT_MODEL_CONFIG`!\n",
    "\n",
    "By updating the parameters in `model_cfg`, we can make a various SevenNet model.\\\n",
    "There are 3 main parameters that are closely related to the accuracy of the model.\n",
    "1. `lmax`: the maximum degree of Spherical Harmonics representation\\\n",
    "Default is 1. We use 2 here. Please use this value $\\ge$ 1\n",
    "2. `channel`: the number of channels in layers\\\n",
    "Default is 32. We use 16 here.\n",
    "3. `num_convolution_layer`: the number of interaction (message-passing) layers\\\n",
    "Default is 3. We use 3 here.\n",
    "\n",
    "We can make more accurate model by increasing these 3 parameters, but it needs a significant amount of training time as the computation and the number of model weights increase.\n",
    "\n",
    "Also, for better training, we set 3 parameters for data standardization.\n",
    "1. `shift`: parameter related to the average of a data distribution\n",
    "2. `scale`: parameter related to the standard deviation of a data distribution\n",
    "3. `conv_denominator`: parameter that regulates the node feature values during message passing to prevent them from growing indefinitely\n",
    "\n",
    "We can easily calculate each value from `SevenNetGraphDataset` (`per_atom_energy_mean`, `force_rms`, and `avg_num_neigh`).\n",
    "\n",
    "If you used different `cutoff` value at Data Setting, you should update the `cutoff` value to `model_cfg`.\\\n",
    "For more information about `model_cfg`, check the example input.yaml files in [SevenNet github](https://github.com/MDIL-SNU/SevenNet/tree/main/sevenn/presets)!\n"
   ]
  },
  {
   "cell_type": "code",
   "execution_count": 7,
   "metadata": {
    "colab": {
     "base_uri": "https://localhost:8080/"
    },
    "executionInfo": {
     "elapsed": 2721,
     "status": "ok",
     "timestamp": 1730955634058,
     "user": {
      "displayName": "­박유택 / 학생 / 재료공학부",
      "userId": "02833677595276856056"
     },
     "user_tz": -540
    },
    "id": "QovLWolxVqgY",
    "outputId": "4079324e-98f6-4f3a-a25b-d425a98ff071"
   },
   "outputs": [
    {
     "name": "stdout",
     "output_type": "stream",
     "text": [
      "{'irreps_manual': False, 'channel': 16, 'lmax': 2, 'lmax_edge': -1, 'lmax_node': -1, 'is_parity': True, 'radial_basis': {'radial_basis_name': 'bessel'}, 'cutoff_function': {'cutoff_function_name': 'poly_cut'}, 'act_radial': 'silu', 'cutoff': 4.5, 'weight_nn_hidden_neurons': [64, 64], 'num_convolution_layer': 3, 'act_scalar': {'e': 'silu', 'o': 'tanh'}, 'act_gate': {'e': 'silu', 'o': 'tanh'}, 'conv_denominator': 20.45364761352539, 'train_denominator': False, 'train_shift_scale': False, 'use_bias_in_linear': False, 'readout_as_fcn': False, 'readout_fcn_hidden_neurons': [30, 30], 'readout_fcn_activation': 'relu', 'self_connection_type': 'nequip', 'interaction_type': 'nequip', '_normalize_sph': True, 'chemical_species': ['X', 'H', 'He', 'Li', 'Be', 'B', 'C', 'N', 'O', 'F', 'Ne', 'Na', 'Mg', 'Al', 'Si', 'P', 'S', 'Cl', 'Ar', 'K', 'Ca', 'Sc', 'Ti', 'V', 'Cr', 'Mn', 'Fe', 'Co', 'Ni', 'Cu', 'Zn', 'Ga', 'Ge', 'As', 'Se', 'Br', 'Kr', 'Rb', 'Sr', 'Y', 'Zr', 'Nb', 'Mo', 'Tc', 'Ru', 'Rh', 'Pd', 'Ag', 'Cd', 'In', 'Sn', 'Sb', 'Te', 'I', 'Xe', 'Cs', 'Ba', 'La', 'Ce', 'Pr', 'Nd', 'Pm', 'Sm', 'Eu', 'Gd', 'Tb', 'Dy', 'Ho', 'Er', 'Tm', 'Yb', 'Lu', 'Hf', 'Ta', 'W', 'Re', 'Os', 'Ir', 'Pt', 'Au', 'Hg', 'Tl', 'Pb', 'Bi', 'Po', 'At', 'Rn', 'Fr', 'Ra', 'Ac', 'Th', 'Pa', 'U', 'Np', 'Pu', 'Am', 'Cm', 'Bk', 'Cf', 'Es', 'Fm', 'Md', 'No', 'Lr', 'Rf', 'Db', 'Sg', 'Bh', 'Hs', 'Mt', 'Ds', 'Rg', 'Cn', 'Nh', 'Fl', 'Mc', 'Lv', 'Ts', 'Og'], '_chemical_species_by_atomic_number': [0, 1, 2, 3, 4, 5, 6, 7, 8, 9, 10, 11, 12, 13, 14, 15, 16, 17, 18, 19, 20, 21, 22, 23, 24, 25, 26, 27, 28, 29, 30, 31, 32, 33, 34, 35, 36, 37, 38, 39, 40, 41, 42, 43, 44, 45, 46, 47, 48, 49, 50, 51, 52, 53, 54, 55, 56, 57, 58, 59, 60, 61, 62, 63, 64, 65, 66, 67, 68, 69, 70, 71, 72, 73, 74, 75, 76, 77, 78, 79, 80, 81, 82, 83, 84, 85, 86, 87, 88, 89, 90, 91, 92, 93, 94, 95, 96, 97, 98, 99, 100, 101, 102, 103, 104, 105, 106, 107, 108, 109, 110, 111, 112, 113, 114, 115, 116, 117, 118], '_number_of_species': 119, '_type_map': {0: 0, 1: 1, 2: 2, 3: 3, 4: 4, 5: 5, 6: 6, 7: 7, 8: 8, 9: 9, 10: 10, 11: 11, 12: 12, 13: 13, 14: 14, 15: 15, 16: 16, 17: 17, 18: 18, 19: 19, 20: 20, 21: 21, 22: 22, 23: 23, 24: 24, 25: 25, 26: 26, 27: 27, 28: 28, 29: 29, 30: 30, 31: 31, 32: 32, 33: 33, 34: 34, 35: 35, 36: 36, 37: 37, 38: 38, 39: 39, 40: 40, 41: 41, 42: 42, 43: 43, 44: 44, 45: 45, 46: 46, 47: 47, 48: 48, 49: 49, 50: 50, 51: 51, 52: 52, 53: 53, 54: 54, 55: 55, 56: 56, 57: 57, 58: 58, 59: 59, 60: 60, 61: 61, 62: 62, 63: 63, 64: 64, 65: 65, 66: 66, 67: 67, 68: 68, 69: 69, 70: 70, 71: 71, 72: 72, 73: 73, 74: 74, 75: 75, 76: 76, 77: 77, 78: 78, 79: 79, 80: 80, 81: 81, 82: 82, 83: 83, 84: 84, 85: 85, 86: 86, 87: 87, 88: 88, 89: 89, 90: 90, 91: 91, 92: 92, 93: 93, 94: 94, 95: 95, 96: 96, 97: 97, 98: 98, 99: 99, 100: 100, 101: 101, 102: 102, 103: 103, 104: 104, 105: 105, 106: 106, 107: 107, 108: 108, 109: 109, 110: 110, 111: 111, 112: 112, 113: 113, 114: 114, 115: 115, 116: 116, 117: 117, 118: 118}, 'shift': -4.037598133087158, 'scale': 0.6559792162481458}\n"
     ]
    }
   ],
   "source": [
    "from copy import deepcopy\n",
    "\n",
    "from sevenn._const import DEFAULT_E3_EQUIVARIANT_MODEL_CONFIG\n",
    "from sevenn.model_build import build_E3_equivariant_model\n",
    "import sevenn.util as util\n",
    "\n",
    "# copy default model configuration.\n",
    "model_cfg = deepcopy(DEFAULT_E3_EQUIVARIANT_MODEL_CONFIG)\n",
    "\n",
    "# tune the channel and lmax parameters. You can experiment with different settings.\n",
    "model_cfg.update({'channel': 16, 'lmax': 2})\n",
    "# model_cfg.update({'cutoff': 5.0})\n",
    "\n",
    "# tell models about element in universe\n",
    "model_cfg.update(util.chemical_species_preprocess([], universal=True))\n",
    "\n",
    "# tell model about statistics of dataset. kind of data standardization\n",
    "train_shift = dataset.per_atom_energy_mean\n",
    "train_scale = dataset.force_rms\n",
    "train_conv_denominator = dataset.avg_num_neigh\n",
    "model_cfg.update({'shift': train_shift, 'scale': train_scale, 'conv_denominator': train_conv_denominator})\n",
    "print(model_cfg)"
   ]
  },
  {
   "cell_type": "code",
   "execution_count": 8,
   "metadata": {},
   "outputs": [
    {
     "name": "stdout",
     "output_type": "stream",
     "text": [
      "AtomGraphSequential(\n",
      "  (edge_embedding): EdgeEmbedding(\n",
      "    (basis_function): BesselBasis()\n",
      "    (cutoff_function): PolynomialCutoff()\n",
      "    (spherical): SphericalEncoding(\n",
      "      (sph): SphericalHarmonics()\n",
      "    )\n",
      "  )\n",
      "  (onehot_idx_to_onehot): OnehotEmbedding()\n",
      "  (onehot_to_feature_x): IrrepsLinear(\n",
      "    (linear): Linear(119x0e -> 16x0e | 1904 weights)\n",
      "  )\n",
      "  (0_self_connection_intro): SelfConnectionIntro(\n",
      "    (fc_tensor_product): FullyConnectedTensorProduct(16x0e x 119x0e -> 48x0e+16x1o+16x2e | 91392 paths | 91392 weights)\n",
      "  )\n",
      "  (0_self_interaction_1): IrrepsLinear(\n",
      "    (linear): Linear(16x0e -> 16x0e | 256 weights)\n",
      "  )\n",
      "  (0_convolution): IrrepsConvolution(\n",
      "    (convolution): TensorProduct(16x0e x 1x0e+1x1o+1x2e -> 16x0e+16x1o+16x2e | 48 paths | 48 weights)\n",
      "    (weight_nn): FullyConnectedNet[8, 64, 64, 48]\n",
      "  )\n",
      "  (0_self_interaction_2): IrrepsLinear(\n",
      "    (linear): Linear(16x0e+16x1o+16x2e -> 48x0e+16x1o+16x2e | 1280 weights)\n",
      "  )\n",
      "  (0_self_connection_outro): SelfConnectionOutro()\n",
      "  (0_equivariant_gate): EquivariantGate(\n",
      "    (gate): Gate (48x0e+16x1o+16x2e -> 16x0e+16x1o+16x2e)\n",
      "  )\n",
      "  (1_self_connection_intro): SelfConnectionIntro(\n",
      "    (fc_tensor_product): FullyConnectedTensorProduct(16x0e+16x1o+16x2e x 119x0e -> 80x0e+16x1o+16x1e+16x2o+16x2e | 213248 paths | 213248 weights)\n",
      "  )\n",
      "  (1_self_interaction_1): IrrepsLinear(\n",
      "    (linear): Linear(16x0e+16x1o+16x2e -> 16x0e+16x1o+16x2e | 768 weights)\n",
      "  )\n",
      "  (1_convolution): IrrepsConvolution(\n",
      "    (convolution): TensorProduct(16x0e+16x1o+16x2e x 1x0e+1x1o+1x2e -> 48x0e+64x1o+32x1e+32x2o+64x2e | 240 paths | 240 weights)\n",
      "    (weight_nn): FullyConnectedNet[8, 64, 64, 240]\n",
      "  )\n",
      "  (1_self_interaction_2): IrrepsLinear(\n",
      "    (linear): Linear(48x0e+64x1o+32x1e+32x2o+64x2e -> 80x0e+16x1o+16x1e+16x2o+16x2e | 6912 weights)\n",
      "  )\n",
      "  (1_self_connection_outro): SelfConnectionOutro()\n",
      "  (1_equivariant_gate): EquivariantGate(\n",
      "    (gate): Gate (80x0e+16x1o+16x1e+16x2o+16x2e -> 16x0e+16x1o+16x1e+16x2o+16x2e)\n",
      "  )\n",
      "  (2_self_connection_intro): SelfConnectionIntro(\n",
      "    (fc_tensor_product): FullyConnectedTensorProduct(16x0e+16x1o+16x1e+16x2o+16x2e x 119x0e -> 16x0e | 30464 paths | 30464 weights)\n",
      "  )\n",
      "  (2_self_interaction_1): IrrepsLinear(\n",
      "    (linear): Linear(16x0e+16x1o+16x1e+16x2o+16x2e -> 16x0e+16x1o+16x1e+16x2o+16x2e | 1280 weights)\n",
      "  )\n",
      "  (2_convolution): IrrepsConvolution(\n",
      "    (convolution): TensorProduct(16x0e+16x1o+16x1e+16x2o+16x2e x 1x0e+1x1o+1x2e -> 48x0e | 48 paths | 48 weights)\n",
      "    (weight_nn): FullyConnectedNet[8, 64, 64, 48]\n",
      "  )\n",
      "  (2_self_interaction_2): IrrepsLinear(\n",
      "    (linear): Linear(48x0e -> 16x0e | 768 weights)\n",
      "  )\n",
      "  (2_self_connection_outro): SelfConnectionOutro()\n",
      "  (2_equivariant_gate): EquivariantGate(\n",
      "    (gate): Gate (16x0e -> 16x0e)\n",
      "  )\n",
      "  (reduce_input_to_hidden): IrrepsLinear(\n",
      "    (linear): Linear(16x0e -> 8x0e | 128 weights)\n",
      "  )\n",
      "  (reduce_hidden_to_energy): IrrepsLinear(\n",
      "    (linear): Linear(8x0e -> 1x0e | 8 weights)\n",
      "  )\n",
      "  (rescale_atomic_energy): Rescale()\n",
      "  (reduce_total_enegy): AtomReduce()\n",
      "  (force_output): ForceStressOutputFromEdge()\n",
      ")\n",
      "# model weights: 383744\n"
     ]
    }
   ],
   "source": [
    "model = build_E3_equivariant_model(model_cfg)\n",
    "num_weights = sum(p.numel() for p in model.parameters() if p.requires_grad)\n",
    "print(model) # model info\n",
    "print(f'# model weights: {num_weights}')"
   ]
  },
  {
   "cell_type": "markdown",
   "metadata": {
    "id": "ifT5HeWZ-nen"
   },
   "source": [
    "### Training setting\n",
    "Next, we need to set the up the training settings. We can make a default `train_cfg` using `DEFAULT_TRAINING_CONFIG`.\\\n",
    "You can update various parameters in `train_cfg`. In this tutorial, we update the parameters below.\n",
    "1. `device`: the device to use for training. We recommend using `'cuda'` (GPU). If you don't have GPU, use `'cpu'`.\n",
    "2. `optimizer`: algorithm for optimization. We recommend using `'adam'`.\n",
    "3. `optim_param`: hyperparameters for the optimizer, such as learning rate.\n",
    "4. `scheduler`: method that adjusts the learning rate, such as `'linearlr'`, or `'exponentiallr'`.\n",
    "5. `scheduler_param`: hyperparameters for the scheduler.\n",
    "6. `force_loss_weight`: value that determines how much the force loss contributes to the total loss.\n",
    "\n",
    "There are also various other parameters. For more information about this, check the example input.yaml files in [SevenNet github](https://github.com/MDIL-SNU/SevenNet/tree/main/sevenn/presets).\\\n",
    "Also, you can check more detailed information about each parameter in [Pytorch documentation](https://pytorch.org/docs/stable/index.html).\n",
    "\n",
    "After setting the `train_cfg`, you can easily apply this using `Trainer`.\n"
   ]
  },
  {
   "cell_type": "code",
   "execution_count": 9,
   "metadata": {
    "colab": {
     "base_uri": "https://localhost:8080/"
    },
    "executionInfo": {
     "elapsed": 557,
     "status": "ok",
     "timestamp": 1730955639780,
     "user": {
      "displayName": "­박유택 / 학생 / 재료공학부",
      "userId": "02833677595276856056"
     },
     "user_tz": -540
    },
    "id": "WkOvy3XjIpcJ",
    "outputId": "baf0fb0c-7861-4d00-998d-12a8a4a86fbc"
   },
   "outputs": [
    {
     "name": "stdout",
     "output_type": "stream",
     "text": [
      "[(Energy, 1.0), (Force, 0.2), (Stress, 1e-06)]\n",
      "Adam (\n",
      "Parameter Group 0\n",
      "    amsgrad: False\n",
      "    betas: (0.9, 0.999)\n",
      "    capturable: False\n",
      "    differentiable: False\n",
      "    eps: 1e-08\n",
      "    foreach: None\n",
      "    fused: None\n",
      "    initial_lr: 0.01\n",
      "    lr: 0.01\n",
      "    maximize: False\n",
      "    weight_decay: 0\n",
      ")\n",
      "<torch.optim.lr_scheduler.LinearLR object at 0x7f433b773310>\n"
     ]
    }
   ],
   "source": [
    "from sevenn._const import DEFAULT_TRAINING_CONFIG\n",
    "from sevenn.train.trainer import Trainer\n",
    "\n",
    "# copy default training configuration\n",
    "train_cfg = deepcopy(DEFAULT_TRAINING_CONFIG)\n",
    "\n",
    "# set optimizer and scheduler for training.\n",
    "train_cfg.update({\n",
    "  'device': 'cuda',\n",
    "  'optimizer': 'adam',\n",
    "  'optim_param': {'lr': 0.01},\n",
    "  'scheduler': 'linearlr',\n",
    "  'scheduler_param': {'start_factor': 1.0, 'total_iters': 100, 'end_factor': 0.0001},\n",
    "  # 'scheduler': 'exponentiallr',\n",
    "  # 'scheduler_param': {'gamma': 0.99},\n",
    "  'force_loss_weight': 0.2,\n",
    "})\n",
    "\n",
    "# Initialize trainer. It implements common rountines for training.\n",
    "trainer = Trainer.from_config(model, train_cfg)\n",
    "print(trainer.loss_functions)  # We have energy, force, stress loss function by defaults. With default 1.0, 0.1, and 1e-6 loss weight\n",
    "print(trainer.optimizer)\n",
    "print(trainer.scheduler)"
   ]
  },
  {
   "cell_type": "markdown",
   "metadata": {},
   "source": [
    "To track changes in loss during training, we can use `ErrorRecorder`."
   ]
  },
  {
   "cell_type": "code",
   "execution_count": 10,
   "metadata": {
    "colab": {
     "base_uri": "https://localhost:8080/"
    },
    "executionInfo": {
     "elapsed": 541,
     "status": "ok",
     "timestamp": 1730955675520,
     "user": {
      "displayName": "­박유택 / 학생 / 재료공학부",
      "userId": "02833677595276856056"
     },
     "user_tz": -540
    },
    "id": "9rnw9iWJgsKG",
    "outputId": "d54e3fab-2cde-40cf-b9a7-ba26ac9795d0"
   },
   "outputs": [
    {
     "name": "stdout",
     "output_type": "stream",
     "text": [
      "Energy_RMSE (eV/atom): nan\n",
      "Force_RMSE (eV/Å): nan\n",
      "TotalLoss: nan\n"
     ]
    }
   ],
   "source": [
    "from sevenn.error_recorder import ErrorRecorder\n",
    "\n",
    "train_cfg.update({\n",
    "  # List of tuple [Quantity name, metric name]\n",
    "  # Supporting quantities: Energy, Force, Stress, Stress_GPa\n",
    "  # Supporting metrics: RMSE, MAE, Loss\n",
    "  # TotalLoss is special!\n",
    "  'error_record': [\n",
    "    ('Energy', 'RMSE'),\n",
    "    ('Force', 'RMSE'),\n",
    "    # ('Stress', 'RMSE'),  We skip stress error cause it is too long to print, uncomment it if you want\n",
    "    ('TotalLoss', 'None'),\n",
    "  ]\n",
    "})\n",
    "train_recorder = ErrorRecorder.from_config(train_cfg)\n",
    "valid_recorder = deepcopy(train_recorder)\n",
    "for metric in train_recorder.metrics:\n",
    "  print(metric)"
   ]
  },
  {
   "cell_type": "markdown",
   "metadata": {},
   "source": [
    "### Training start!\n",
    "Let's start the model training!\\\n",
    "Using `Trainer` and `ErrorRecorder`, we can easily perform training."
   ]
  },
  {
   "cell_type": "code",
   "execution_count": 11,
   "metadata": {
    "colab": {
     "base_uri": "https://localhost:8080/"
    },
    "executionInfo": {
     "elapsed": 250950,
     "status": "ok",
     "timestamp": 1730955929964,
     "user": {
      "displayName": "­박유택 / 학생 / 재료공학부",
      "userId": "02833677595276856056"
     },
     "user_tz": -540
    },
    "id": "h46t-ibdk3-L",
    "outputId": "83ab1b68-6ae2-43a4-f69e-5ea528781595"
   },
   "outputs": [
    {
     "name": "stderr",
     "output_type": "stream",
     "text": [
      "Train: Energy_RMSE (eV/atom): 0.003    Force_RMSE (eV/Å): 0.173    TotalLoss: 0.002// Valid: Energy_RMSE (eV/atom): 0.001    Force_RMSE (eV/Å): 0.191    TotalLoss: 0.003: 100%|██████████| 50/50 [04:43<00:00,  5.67s/it]\n"
     ]
    }
   ],
   "source": [
    "from tqdm import tqdm\n",
    "\n",
    "valid_best = float('inf')\n",
    "total_epoch = 50    # you can increase this number for better performance.\n",
    "pbar = tqdm(range(total_epoch))\n",
    "config = model_cfg  # to save config used in this tutorial.\n",
    "config.update(train_cfg)\n",
    "\n",
    "for epoch in pbar:\n",
    "  # trainer scans whole data from given loader, and updates error recorder with outputs.\n",
    "  trainer.run_one_epoch(train_loader, is_train=True, error_recorder=train_recorder)\n",
    "  trainer.run_one_epoch(valid_loader, is_train=False, error_recorder=valid_recorder)\n",
    "  trainer.scheduler_step(valid_best) \n",
    "  train_err = train_recorder.epoch_forward()  # return averaged error over one epoch, then reset.\n",
    "  valid_err = valid_recorder.epoch_forward()\n",
    "\n",
    "  # for print. train_err is a dictionary of {metric name with unit: error}\n",
    "  err_str = 'Train: ' + '    '.join([f'{k}: {v:.3f}' for k, v in train_err.items()])\n",
    "  err_str += '// Valid: ' + '    '.join([f'{k}: {v:.3f}' for k, v in valid_err.items()])\n",
    "  pbar.set_description(err_str)\n",
    "\n",
    "  if valid_err['TotalLoss'] < valid_best:  # saves best checkpoint. by comparing validation set total loss\n",
    "    valid_best = valid_err['TotalLoss']\n",
    "    trainer.write_checkpoint(os.path.join(working_dir, 'checkpoint_best.pth'), config=config, epoch=epoch)"
   ]
  },
  {
   "cell_type": "markdown",
   "metadata": {
    "id": "ALRki_ilVsT3"
   },
   "source": [
    "## 3. Model test\n",
    "### Energy / force plot\n",
    "Let's predict the energy and force of test dataset and draw the parity plots.\\\n",
    "Using `SevenNetCalculator`, we can load the checkpoint of the model we've trained to calculate the energy and forces.\\\n",
    "The results are quite good, but for more accurate outcomes, you may need to enhance the data, increase the model size, or extend the training time.\n"
   ]
  },
  {
   "cell_type": "code",
   "execution_count": 12,
   "metadata": {
    "executionInfo": {
     "elapsed": 3464,
     "status": "ok",
     "timestamp": 1730956554591,
     "user": {
      "displayName": "­박유택 / 학생 / 재료공학부",
      "userId": "02833677595276856056"
     },
     "user_tz": -540
    },
    "id": "CzOHD9ym9z8u"
   },
   "outputs": [],
   "source": [
    "# load test model\n",
    "import torch\n",
    "import ase.io\n",
    "\n",
    "from sevenn.sevennet_calculator import SevenNetCalculator\n",
    "\n",
    "# Let's test our model by predicting DFT MD trajectory\n",
    "# Instead of using other functions in SevenNet, we will use ASE calculator as an interface of our model\n",
    "DFT_md_xyz = os.path.join(data_path, 'evaluation/test_md.extxyz')\n",
    "\n",
    "# initialize calculator from checkpoint.\n",
    "sevennet_calc = SevenNetCalculator(os.path.join(working_dir, 'checkpoint_best.pth'))\n",
    "\n",
    "# load DFT md trajectory\n",
    "traj = ase.io.read(DFT_md_xyz, index=':')"
   ]
  },
  {
   "cell_type": "code",
   "execution_count": 13,
   "metadata": {
    "colab": {
     "base_uri": "https://localhost:8080/"
    },
    "executionInfo": {
     "elapsed": 8216,
     "status": "ok",
     "timestamp": 1730956565565,
     "user": {
      "displayName": "­박유택 / 학생 / 재료공학부",
      "userId": "02833677595276856056"
     },
     "user_tz": -540
    },
    "id": "3DVBcr_441lk",
    "outputId": "438803e1-4ac0-4253-c01c-3cae1fae49c0"
   },
   "outputs": [
    {
     "name": "stderr",
     "output_type": "stream",
     "text": [
      "100%|██████████| 100/100 [00:05<00:00, 19.85it/s]\n"
     ]
    }
   ],
   "source": [
    "import numpy as np\n",
    "\n",
    "dft_energy = []\n",
    "dft_forces = []\n",
    "dft_stress = []\n",
    "\n",
    "mlp_energy = []\n",
    "mlp_forces = []\n",
    "mlp_stress = []\n",
    "to_kBar = 1602.1766208\n",
    "\n",
    "for atoms in tqdm(traj):\n",
    "  atoms.calc = sevennet_calc\n",
    "  mlp_energy.append(atoms.get_potential_energy() / len(atoms))  # as per atom energy\n",
    "  mlp_forces.append(atoms.get_forces())\n",
    "  mlp_stress.extend(-atoms.get_stress() * to_kBar)  # eV/Angstrom^3 to kBar unit\n",
    "\n",
    "  dft_energy.append(atoms.info['DFT_energy'] / len(atoms))\n",
    "  dft_forces.append(atoms.arrays['DFT_forces'])\n",
    "  dft_stress.append(-atoms.info['DFT_stress'] * to_kBar)\n"
   ]
  },
  {
   "cell_type": "code",
   "execution_count": 14,
   "metadata": {
    "executionInfo": {
     "elapsed": 553,
     "status": "ok",
     "timestamp": 1730956568788,
     "user": {
      "displayName": "­박유택 / 학생 / 재료공학부",
      "userId": "02833677595276856056"
     },
     "user_tz": -540
    },
    "id": "Q5ddwJPM6I4y"
   },
   "outputs": [],
   "source": [
    "# flatten forces and stress for parity plot\n",
    "mlp_forces = np.concatenate([mf.reshape(-1,) for mf in mlp_forces])\n",
    "mlp_stress = np.concatenate([ms.reshape(-1,) for ms in mlp_stress])\n",
    "\n",
    "dft_forces = np.concatenate([df.reshape(-1,) for df in dft_forces])\n",
    "dft_stress = np.concatenate([ds.reshape(-1,) for ds in dft_stress])"
   ]
  },
  {
   "cell_type": "code",
   "execution_count": 15,
   "metadata": {},
   "outputs": [
    {
     "data": {
      "image/png": "[encoded data removed]",
      "text/plain": [
       "<Figure size 708.661x236.22 with 3 Axes>"
      ]
     },
     "metadata": {},
     "output_type": "display_data"
    }
   ],
   "source": [
    "import matplotlib.pyplot as plt\n",
    "from scipy.stats import gaussian_kde\n",
    "\n",
    "# draw a parity plot of energy / force / stress\n",
    "unit = {\"energy\": \"eV/atom\", \"force\": r\"eV/$\\rm{\\AA}$\", \"stress\": \"kbar\"}\n",
    "def density_colored_scatter_plot(dft_energy, nnp_energy, dft_force, nnp_force, dft_stress, nnp_stress):\n",
    "    modes = ['energy', 'force', 'stress']\n",
    "    plt.figure(figsize=(18/2.54, 6/2.54))\n",
    "    for num, (x, y) in enumerate(zip([dft_energy, dft_force, dft_stress], [nnp_energy, nnp_force, nnp_stress])):\n",
    "        mode = modes[num]\n",
    "        idx = np.random.choice(len(x), 1000) if len(x) > 1000 else list(range(len(x)))\n",
    "        xsam = [x[i] for i in idx]\n",
    "        ysam = [y[i] for i in idx]\n",
    "        xy = np.vstack([x, y])\n",
    "        xysam = np.vstack([xsam, ysam])\n",
    "        zsam = gaussian_kde(xysam)\n",
    "\n",
    "        z = zsam.pdf(xy)\n",
    "        idx = z.argsort()\n",
    "\n",
    "        x = [x[i] for i in idx]\n",
    "        y = [y[i] for i in idx]\n",
    "        z = [z[i] for i in idx]\n",
    "        \n",
    "        ax = plt.subplot(int(f'13{num+1}'))\n",
    "        plt.scatter(x, y, c=z, s=4, cmap='plasma')\n",
    "\n",
    "        mini = min(min(x), min(y))\n",
    "        maxi = max(max(x), max(y))\n",
    "        ran = (maxi-mini) / 20\n",
    "        plt.plot([mini-ran, maxi+ran], [mini-ran, maxi+ran], color='grey', linestyle='dashed')\n",
    "        plt.xlim(mini-ran, maxi+ran)\n",
    "        plt.ylim(mini-ran, maxi+ran)\n",
    "\n",
    "        plt.xlabel(f'DFT {mode} ({unit[mode]})')\n",
    "        plt.ylabel(f'MLP {mode} ({unit[mode]})')\n",
    "        ax.set_aspect('equal')\n",
    "\n",
    "    plt.tight_layout()\n",
    "    plt.show()\n",
    "\n",
    "density_colored_scatter_plot(dft_energy, mlp_energy, dft_forces, mlp_forces, dft_stress, mlp_stress)"
   ]
  },
  {
   "cell_type": "markdown",
   "metadata": {},
   "source": [
    "## ASE relaxation & Drawing an EOS curve\n",
    "Additionally, you can use the trained model to perform structure relaxation and plot the EOS curve.\\\n",
    "It shows results that align quite well with DFT calculations!"
   ]
  },
  {
   "cell_type": "code",
   "execution_count": 16,
   "metadata": {},
   "outputs": [],
   "source": [
    "import warnings\n",
    "warnings.filterwarnings(\"ignore\")\n",
    "\n",
    "from ase.constraints import UnitCellFilter\n",
    "from ase.optimize import LBFGS\n",
    "from ase.calculators.singlepoint import SinglePointCalculator\n",
    "\n",
    "# codes for drawing EOS curve\n",
    "\n",
    "def atom_oneshot(atoms, calc):\n",
    "    energy = atoms.get_potential_energy()\n",
    "    forces = atoms.get_forces()\n",
    "    stress = atoms.get_stress()\n",
    "\n",
    "    calc_results = {\"energy\": energy, \"forces\": forces, \"stress\": stress}\n",
    "    calculator = SinglePointCalculator(atoms, **calc_results)\n",
    "    atoms = calculator.get_atoms()\n",
    "\n",
    "    return atoms\n",
    "\n",
    "def atom_cell_relax(atoms, calc, logfile=\"-\"):\n",
    "    atoms.calc = calc\n",
    "    cf = UnitCellFilter(atoms, hydrostatic_strain=True)\n",
    "    opt = LBFGS(cf, logfile=logfile)\n",
    "    opt.run(fmax=0.05, steps=1000)\n",
    "\n",
    "    return atoms\n",
    "\n",
    "def make_eos_structures(relaxed):\n",
    "    relaxed_cell = relaxed.get_cell()\n",
    "    relaxed_lat = relaxed_cell.lengths()[0]\n",
    "    \n",
    "    eos_structures = []\n",
    "    for strain in np.linspace(-0.05, 0.05, 11):\n",
    "        strained_lat = relaxed_lat * (1+strain)\n",
    "        relaxed.set_cell([strained_lat]*3, scale_atoms=True)\n",
    "        eos_structures.append(deepcopy(relaxed))\n",
    "\n",
    "    return eos_structures\n",
    "\n",
    "def get_eos_and_volume(eos_list):\n",
    "    en_list = []\n",
    "    vol_list = []\n",
    "    for atoms in eos_list:\n",
    "        en_list.append(atoms.get_potential_energy())\n",
    "        vol_list.append(atoms.get_volume())\n",
    "        \n",
    "    rel_en_list = np.array(en_list) - min(en_list)\n",
    "\n",
    "    return rel_en_list, vol_list"
   ]
  },
  {
   "cell_type": "code",
   "execution_count": 17,
   "metadata": {},
   "outputs": [
    {
     "name": "stdout",
     "output_type": "stream",
     "text": [
      "(DFT) potential_energy (eV/atom): -4.166412019230769\n",
      "Relax with from-scratch potential...\n",
      "(From scratch) potential_energy (eV/atom): -4.164960127610427\n"
     ]
    }
   ],
   "source": [
    "# calculate EOS curve\n",
    "from ase.io import read, write\n",
    "from sevenn.sevennet_calculator import SevenNetCalculator\n",
    "\n",
    "# get relaxed structure\n",
    "os.makedirs('eos', exist_ok=True)\n",
    "atoms_list = read(os.path.join(data_path, 'evaluation/eos.extxyz'), ':')  # most stable structure idx\n",
    "most_stable_idx = np.argmin([at.get_potential_energy() for at in atoms_list])\n",
    "print(f\"(DFT) potential_energy (eV/atom): {atoms_list[most_stable_idx].get_potential_energy() / len(atoms_list[0])}\")\n",
    "atoms = atoms_list[most_stable_idx]\n",
    "\n",
    "log_path = './eos/seven_relax_log.txt'\n",
    "print(\"Relax with from-scratch potential...\")\n",
    "relaxed = atom_cell_relax(atoms, sevennet_calc, log_path)\n",
    "print(f\"(From scratch) potential_energy (eV/atom): {relaxed.get_potential_energy() / len(relaxed)}\")\n",
    "\n",
    "# make EOS structures and calculate EOS curve\n",
    "eos_structures = make_eos_structures(relaxed)\n",
    "eos_oneshot = []\n",
    "for structure in eos_structures:\n",
    "    eos_oneshot.append(atom_oneshot(structure, sevennet_calc))\n",
    "\n",
    "write('./eos/eos.extxyz', eos_oneshot)"
   ]
  },
  {
   "cell_type": "code",
   "execution_count": 18,
   "metadata": {},
   "outputs": [
    {
     "data": {
      "image/png": "[encoded data removed]",
      "text/plain": [
       "<Figure size 393.701x314.961 with 1 Axes>"
      ]
     },
     "metadata": {},
     "output_type": "display_data"
    }
   ],
   "source": [
    "# draw EOS curve and compare with DFT\n",
    "dft_eos, dft_vol = get_eos_and_volume(read(os.path.join(data_path, 'evaluation/eos.extxyz'), ':'))\n",
    "mlp_eos, mlp_vol = get_eos_and_volume(read(os.path.join(working_dir, 'eos/eos.extxyz'), ':'))\n",
    "\n",
    "plt.figure(figsize=(10/2.54, 8/2.54))\n",
    "plt.plot(dft_vol, dft_eos, label='DFT')\n",
    "plt.plot(mlp_vol, mlp_eos, label='From scratch')\n",
    "\n",
    "plt.xlabel(r\"Volume ($\\rm{\\AA}^3$)\")\n",
    "plt.ylabel(\"Relative energy (eV)\")\n",
    "\n",
    "plt.legend()\n",
    "plt.tight_layout()\n",
    "plt.show()"
   ]
  }
 ],
 "metadata": {
  "accelerator": "GPU",
  "colab": {
   "gpuType": "T4",
   "provenance": [
    {
     "file_id": "https://github.com/MDIL-SNU/SevenNet/blob/tutorial/tutorial/SevenNet_python_tutorial.ipynb",
     "timestamp": 1730881963668
    }
   ]
  },
  "kernelspec": {
   "display_name": "seven",
   "language": "python",
   "name": "python3"
  },
  "language_info": {
   "codemirror_mode": {
    "name": "ipython",
    "version": 3
   },
   "file_extension": ".py",
   "mimetype": "text/x-python",
   "name": "python",
   "nbconvert_exporter": "python",
   "pygments_lexer": "ipython3",
   "version": "3.9.19"
  }
 },
 "nbformat": 4,
 "nbformat_minor": 0
}
